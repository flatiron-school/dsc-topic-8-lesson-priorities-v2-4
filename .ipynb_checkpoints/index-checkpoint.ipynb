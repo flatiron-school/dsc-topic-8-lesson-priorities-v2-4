{
 "cells": [
  {
   "cell_type": "markdown",
   "metadata": {},
   "source": [
    "# 1st Priority\n",
    "\n",
    "If you are short on time, be sure to make it through these items:\n",
    "\n",
    "- APIs - Introduction\n",
    "- HTTP Request/Response Cycle - Codealong\n",
    "- Using the Yelp API - Codealong\n",
    "- APIs - Cumulative Lab\n",
    "\n",
    "> Note: If you can't yet see the cumulative lab, don't worry. It may not be visible until a pair programming session led by your instructor."
   ]
  },
  {
   "cell_type": "markdown",
   "metadata": {},
   "source": [
    "# 2nd Priority\n",
    "\n",
    "- The Client Server Model\n",
    "- OAuth - Open Authorization\n",
    "- HTTP Request/Response Cycle - Lab\n",
    "- Reading API Documentation\n",
    "- Folium - Codealong\n",
    "- APIs - Recap"
   ]
  },
  {
   "cell_type": "markdown",
   "metadata": {},
   "source": [
    "# Appendix\n",
    "\n",
    "There is no appendix for Topic 8.  For LIVE students, the subjects covered in Topic 8 will not appear on the end of phase assessment.  However, learning how to use API's is an important skill.  At some point during the program, you will likely use an API to gather data.  Many students use API's to collect capstone data.\n",
    "\n"
   ]
  },
  {
   "cell_type": "markdown",
   "metadata": {},
   "source": [
    "# Note On Lesson Priorities\n",
    "\n",
    "The items in the topics are meant to be completed sequentially. Lesson priorities are meant to help you zero in on the most important content if you are short on time. That does not mean the items marked as 2nd Priority are not important to your development as a data scientist. Rather, it means that they do not introduce concepts that are essential to progressing through the Flatiron Data Science program.\n",
    "\n",
    "You will notice that many labs are marked 2nd Priority. Labs reinforce concepts which are introduced by prior items. If you are short on time, your first priority should be to digest the concept where it has been introduced, then reinforce the concept in the lab when you have time."
   ]
  }
 ],
 "metadata": {
  "kernelspec": {
   "display_name": "learn-env",
   "language": "python",
   "name": "learn-env"
  },
  "language_info": {
   "codemirror_mode": {
    "name": "ipython",
    "version": 3
   },
   "file_extension": ".py",
   "mimetype": "text/x-python",
   "name": "python",
   "nbconvert_exporter": "python",
   "pygments_lexer": "ipython3",
   "version": "3.7.3"
  }
 },
 "nbformat": 4,
 "nbformat_minor": 4
}
